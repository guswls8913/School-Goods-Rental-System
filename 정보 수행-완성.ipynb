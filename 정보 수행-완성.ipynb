{
 "cells": [
  {
   "cell_type": "code",
   "execution_count": 1,
   "metadata": {},
   "outputs": [],
   "source": [
    "class Queue:\n", #큐를이용하기위해큐설정
    "    def __init__(self):\n",
    "        self.items = []\n",
    "    def enqueue(self, item):\n",
    "        self.items.insert(0, item)\n",
    "    def dequeue(self):\n",
    "        a = self.items.pop()\n",
    "        return a\n",
    "    def isEmpty(self):\n",
    "        return len(self.items) == []\n",
    "    def size(self):\n",
    "        return len(self.items)\n",
    "    def queuer(self):\n",
    "        return self.items\n",
    "\n",
    "main_data={}\n",
    "origin_data={}\n",
    "student={}\n",
    "sp = '0000'\n", #비밀번호
    "f = '종료'\n",
    "\n",
    "def 물품등록():\n", #물품등록받는함수
    "    print('물품등록을 원하신다면 비밀번호를 입력해주세요')\n",
    "    while True :\n",
    "        p=input()\n",
    "        if p == sp:\n",
    "            print('잠금해제. 물품 등록 시작. 등록할 물품과 수량을 입력해주시고, 물품 등록을 멈추시려면 \"종료 0\"을 입력해주세요')\n",
    "            while True:\n",
    "                a=input_func()\n",
    "                if a[0] =='종료':\n",
    "                    break\n",
    "                else:\n",
    "                    main_data[a[0]]=a[1]\n",
    "                    origin_data[a[0]]=a[1]\n",
    "        elif p == f :\n",
    "            break\n",
    "        else:\n",
    "            print('비밀번호가 틀렸습니다')\n",
    "\n",
    "q = Queue()\n",
    "q.__init__()           \n",
    "\n",
    "def 대여or반납():\n", #대여또는반납하는함수
    "    while True:\n",
    "        mode_num=input('대여시 1, 반납시 2, 현재 상태 확인시 3, 종료시 4를 입력하세요')    \n",
    "        if mode_num=='1':\n",
    "            print('학번을 입력하세요')\n",
    "            d = input()\n",
    "            q.enqueue(d)\n",
    "            a=input_func()\n",
    "            if a[0] not in main_data:\n",
    "                print('그런 물품은 없습니다')\n",
    "            elif main_data[a[0]]-a[1]<0:\n",
    "                print('물품 수량이 부족합니다.')\n",
    "            else:\n",
    "                main_data[a[0]]-=a[1]\n",
    "        elif mode_num=='2':\n",
    "            a=input_func()\n",
    "            if a[1]+main_data[a[0]] > origin_data[a[0]]:\n",
    "                print('수량을 재확인 하세요')\n",
    "            else:\n",
    "                main_data[a[0]]+=a[1]\n",
    "        elif mode_num=='3':\n",
    "            print(main_data)\n",
    "        elif mode_num=='4':\n",
    "            break\n",
    "        else:\n",
    "            print('1,2,3,4 중 하나를 입력해 주세요')\n",
    "\n",
    "def 학번확인():\n", #
    "    n = 0\n",
    "    print('학번을 입력하세요')\n",
    "    b = input()\n",
    "    for i in q.items:\n",
    "        if i == b:\n",
    "            n = n+1\n",
    "    print(n)\n",
    "\n",
    "\n",
    "def input_func():\n",
    "    a,b=input().split(' ')\n",
    "    list1=[a,int(b)]\n",
    "    return list1"
   ]
  },
  {
   "cell_type": "code",
   "execution_count": 2,
   "metadata": {},
   "outputs": [
    {
     "name": "stdout",
     "output_type": "stream",
     "text": [
      "물품등록을 원하신다면 비밀번호를 입력해주세요\n",
      "1234\n",
      "비밀번호가 틀렸습니다\n",
      "0000\n",
      "잠금해제. 물품 등록 시작. 물품 등록을 멈추시려면 \"종료 0\"을 입력해주세요\n",
      "비커 10\n",
      "메스실린더 10\n",
      "종료 0\n",
      "정말로 종료하시겠습니까? 종료하시려면 \"종료\"를 입력해주세요\n",
      "종료\n"
     ]
    }
   ],
   "source": [
    "물품등록()"
   ]
  },
  {
   "cell_type": "code",
   "execution_count": 3,
   "metadata": {},
   "outputs": [
    {
     "name": "stdout",
     "output_type": "stream",
     "text": [
      "대여시 1, 반납시 2, 현재 상태 확인시 3, 종료시 4를 입력하세요1\n",
      "학번을 입력하세요\n",
      "2113\n",
      "비커 2\n",
      "대여시 1, 반납시 2, 현재 상태 확인시 3, 종료시 4를 입력하세요3\n",
      "{'비커': 8, '메스실린더': 10}\n",
      "대여시 1, 반납시 2, 현재 상태 확인시 3, 종료시 4를 입력하세요2\n",
      "비커 2\n",
      "대여시 1, 반납시 2, 현재 상태 확인시 3, 종료시 4를 입력하세요3\n",
      "{'비커': 10, '메스실린더': 10}\n",
      "대여시 1, 반납시 2, 현재 상태 확인시 3, 종료시 4를 입력하세요4\n"
     ]
    }
   ],
   "source": [
    "대여or반납()"
   ]
  },
  {
   "cell_type": "code",
   "execution_count": 4,
   "metadata": {},
   "outputs": [
    {
     "name": "stdout",
     "output_type": "stream",
     "text": [
      "학번을 입력하세요\n",
      "2113\n",
      "1\n"
     ]
    }
   ],
   "source": [
    "학번확인()"
   ]
  },
  {
   "cell_type": "code",
   "execution_count": null,
   "metadata": {},
   "outputs": [],
   "source": []
  },
  {
   "cell_type": "code",
   "execution_count": null,
   "metadata": {},
   "outputs": [],
   "source": []
  }
 ],
 "metadata": {
  "kernelspec": {
   "display_name": "Python 3",
   "language": "python",
   "name": "python3"
  },
  "language_info": {
   "codemirror_mode": {
    "name": "ipython",
    "version": 3
   },
   "file_extension": ".py",
   "mimetype": "text/x-python",
   "name": "python",
   "nbconvert_exporter": "python",
   "pygments_lexer": "ipython3",
   "version": "3.6.4"
  }
 },
 "nbformat": 4,
 "nbformat_minor": 2
}
